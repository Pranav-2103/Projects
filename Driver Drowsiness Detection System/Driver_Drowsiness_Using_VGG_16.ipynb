{
  "cells": [
    {
      "cell_type": "code",
      "execution_count": null,
      "metadata": {
        "id": "sO0Q36R8Urz3"
      },
      "outputs": [],
      "source": [
        "import tensorflow as tf\n",
        "from tensorflow.keras.applications import VGG16\n",
        "from tensorflow.keras.models import Model\n",
        "from tensorflow.keras.layers import Dropout, Input, Flatten, Dense, MaxPooling2D\n",
        "#Though we won't be making any neural networks then still why are we including these layers because we don't want the output layer we only need the rest of the knowledge and at the output our output will be there that is only 2 neurons open eyes and closed eyes\n",
        "from tensorflow.keras.optimizers import Adam\n",
        "from tensorflow.keras.preprocessing.image import ImageDataGenerator  #this is for data augmentation"
      ]
    },
    {
      "cell_type": "code",
      "execution_count": null,
      "metadata": {
        "id": "gP3Sp8X8bmNc"
      },
      "outputs": [],
      "source": [
        "# changes la rahe h images mei like rotate kr diya and original mei kuch nahi hoga sbki duplicate banegi hence 5 duplicates banegi ek ki (pata nahi sahi h ya nahi)\n",
        "# rescale isliye kr rahe h kyunki hamari images bahot badi hai 1./255 means 255 pixels ki krdo (I guess)\n",
        "train_datagen = ImageDataGenerator(rescale=1./255, rotation_range=0.2, shear_range=0.2, zoom_range=0.2, width_shift_range=0.2, height_shift_range=0.2, validation_split=0.2)"
      ]
    },
    {
      "cell_type": "code",
      "execution_count": null,
      "metadata": {
        "colab": {
          "base_uri": "https://localhost:8080/"
        },
        "id": "BHiwbYmnf7mC",
        "outputId": "3634e0de-451f-4f3f-fc9e-c74a18a12369"
      },
      "outputs": [
        {
          "output_type": "stream",
          "name": "stdout",
          "text": [
            "Found 6417 images belonging to 2 classes.\n",
            "Found 1603 images belonging to 2 classes.\n"
          ]
        }
      ],
      "source": [
        "train_data = train_datagen.flow_from_directory('/content/drive/MyDrive/mrlEyes_2018_01/Train', target_size=(80,80), batch_size=8, class_mode='categorical', subset='training' )\n",
        "#ab hum is train data ko do hisso mei baatenge 1 is train data 80% and 1 is validation data 20%\n",
        "\n",
        "validation_data = train_datagen.flow_from_directory('/content/drive/MyDrive/mrlEyes_2018_01/Train', target_size=(80,80), batch_size=8, class_mode='categorical', subset='validation' )"
      ]
    },
    {
      "cell_type": "code",
      "execution_count": null,
      "metadata": {
        "colab": {
          "base_uri": "https://localhost:8080/"
        },
        "id": "uS0e5dvriacq",
        "outputId": "5b518703-2656-4568-9a4d-ae115be509de"
      },
      "outputs": [
        {
          "output_type": "stream",
          "name": "stdout",
          "text": [
            "Found 2353 images belonging to 2 classes.\n"
          ]
        }
      ],
      "source": [
        "  test_datagen = ImageDataGenerator(rescale=1./255)\n",
        "\n",
        "test_data = test_datagen.flow_from_directory('/content/drive/MyDrive/mrlEyes_2018_01/Test', target_size=(80,80), batch_size=8, class_mode='categorical')"
      ]
    },
    {
      "cell_type": "code",
      "execution_count": null,
      "metadata": {
        "colab": {
          "base_uri": "https://localhost:8080/"
        },
        "id": "7Xy5hx_TiiFY",
        "outputId": "55c5ecdb-e782-464e-8d79-bffc447c7bce"
      },
      "outputs": [
        {
          "output_type": "stream",
          "name": "stdout",
          "text": [
            "Downloading data from https://storage.googleapis.com/tensorflow/keras-applications/vgg16/vgg16_weights_tf_dim_ordering_tf_kernels_notop.h5\n",
            "58889256/58889256 [==============================] - 0s 0us/step\n"
          ]
        }
      ],
      "source": [
        "bmodel = VGG16(include_top=False, weights='imagenet', input_tensor=Input(shape=(80,80,3)))\n",
        "\n",
        "hmodel = bmodel.output\n",
        "hmodel = Flatten()(hmodel)\n",
        "hmodel = Dense(64, activation='relu')(hmodel)\n",
        "hmodel = Dropout(0.5)(hmodel)\n",
        "hmodel = Dense(2, activation='softmax')(hmodel)\n",
        "\n",
        "model = Model(inputs=bmodel.input, outputs = hmodel)\n",
        "for layer in bmodel.layers:\n",
        "  layer.trainable = False"
      ]
    },
    {
      "cell_type": "code",
      "execution_count": null,
      "metadata": {
        "colab": {
          "base_uri": "https://localhost:8080/"
        },
        "id": "iLLyLZMEiqNh",
        "outputId": "ef53451b-ae99-4ce6-ad86-c5438aaa6f21"
      },
      "outputs": [
        {
          "output_type": "stream",
          "name": "stdout",
          "text": [
            "Model: \"model\"\n",
            "_________________________________________________________________\n",
            " Layer (type)                Output Shape              Param #   \n",
            "=================================================================\n",
            " input_1 (InputLayer)        [(None, 80, 80, 3)]       0         \n",
            "                                                                 \n",
            " block1_conv1 (Conv2D)       (None, 80, 80, 64)        1792      \n",
            "                                                                 \n",
            " block1_conv2 (Conv2D)       (None, 80, 80, 64)        36928     \n",
            "                                                                 \n",
            " block1_pool (MaxPooling2D)  (None, 40, 40, 64)        0         \n",
            "                                                                 \n",
            " block2_conv1 (Conv2D)       (None, 40, 40, 128)       73856     \n",
            "                                                                 \n",
            " block2_conv2 (Conv2D)       (None, 40, 40, 128)       147584    \n",
            "                                                                 \n",
            " block2_pool (MaxPooling2D)  (None, 20, 20, 128)       0         \n",
            "                                                                 \n",
            " block3_conv1 (Conv2D)       (None, 20, 20, 256)       295168    \n",
            "                                                                 \n",
            " block3_conv2 (Conv2D)       (None, 20, 20, 256)       590080    \n",
            "                                                                 \n",
            " block3_conv3 (Conv2D)       (None, 20, 20, 256)       590080    \n",
            "                                                                 \n",
            " block3_pool (MaxPooling2D)  (None, 10, 10, 256)       0         \n",
            "                                                                 \n",
            " block4_conv1 (Conv2D)       (None, 10, 10, 512)       1180160   \n",
            "                                                                 \n",
            " block4_conv2 (Conv2D)       (None, 10, 10, 512)       2359808   \n",
            "                                                                 \n",
            " block4_conv3 (Conv2D)       (None, 10, 10, 512)       2359808   \n",
            "                                                                 \n",
            " block4_pool (MaxPooling2D)  (None, 5, 5, 512)         0         \n",
            "                                                                 \n",
            " block5_conv1 (Conv2D)       (None, 5, 5, 512)         2359808   \n",
            "                                                                 \n",
            " block5_conv2 (Conv2D)       (None, 5, 5, 512)         2359808   \n",
            "                                                                 \n",
            " block5_conv3 (Conv2D)       (None, 5, 5, 512)         2359808   \n",
            "                                                                 \n",
            " block5_pool (MaxPooling2D)  (None, 2, 2, 512)         0         \n",
            "                                                                 \n",
            " flatten (Flatten)           (None, 2048)              0         \n",
            "                                                                 \n",
            " dense (Dense)               (None, 64)                131136    \n",
            "                                                                 \n",
            " dropout (Dropout)           (None, 64)                0         \n",
            "                                                                 \n",
            " dense_1 (Dense)             (None, 2)                 130       \n",
            "                                                                 \n",
            "=================================================================\n",
            "Total params: 14,845,954\n",
            "Trainable params: 131,266\n",
            "Non-trainable params: 14,714,688\n",
            "_________________________________________________________________\n"
          ]
        }
      ],
      "source": [
        "model.summary()"
      ]
    },
    {
      "cell_type": "code",
      "execution_count": null,
      "metadata": {
        "id": "unnFBdx3iurz"
      },
      "outputs": [],
      "source": [
        "from tensorflow.keras.callbacks import ModelCheckpoint, EarlyStopping, ReduceLROnPlateau"
      ]
    },
    {
      "cell_type": "code",
      "execution_count": null,
      "metadata": {
        "id": "OHm0h2oziy1B"
      },
      "outputs": [],
      "source": [
        "checkpoint = ModelCheckpoint('/content/drive/MyDrive/mrlEyes_2018_01/VGG16', monitor='val_loss', save_best_only=True, verbose=3)\n",
        "\n",
        "earlystop = EarlyStopping(monitor='val_loss', patience=7, verbose=3, restore_best_weights=True)\n",
        "\n",
        "learning_rate = ReduceLROnPlateau(monitor='val_loss', patience=3, verbose=3)\n",
        "\n",
        "callbacks = [checkpoint, earlystop, learning_rate]"
      ]
    },
    {
      "cell_type": "code",
      "execution_count": null,
      "metadata": {
        "id": "PBeByC46jB6e"
      },
      "outputs": [],
      "source": [
        "batchsize = 8"
      ]
    },
    {
      "cell_type": "code",
      "execution_count": null,
      "metadata": {
        "colab": {
          "base_uri": "https://localhost:8080/",
          "height": 1000
        },
        "id": "S9ZDpn_ujFdD",
        "outputId": "776ae6d3-8035-4f66-bc73-cabf39802c2f"
      },
      "outputs": [
        {
          "output_type": "stream",
          "name": "stderr",
          "text": [
            "<ipython-input-10-b80ebd5e01c8>:3: UserWarning: `Model.fit_generator` is deprecated and will be removed in a future version. Please use `Model.fit`, which supports generators.\n",
            "  History = model.fit_generator(train_data, steps_per_epoch=train_data.samples//batchsize, validation_data=validation_data, validation_steps=validation_data.samples//batchsize,\n"
          ]
        },
        {
          "output_type": "stream",
          "name": "stdout",
          "text": [
            "Epoch 1/30\n",
            "802/802 [==============================] - ETA: 0s - loss: 0.5129 - accuracy: 0.7391\n",
            "Epoch 1: val_loss improved from inf to 0.65525, saving model to /content/drive/MyDrive/mrlEyes_2018_01/VGG16\n"
          ]
        },
        {
          "output_type": "stream",
          "name": "stderr",
          "text": [
            "WARNING:absl:Found untraced functions such as _jit_compiled_convolution_op, _jit_compiled_convolution_op, _jit_compiled_convolution_op, _jit_compiled_convolution_op, _jit_compiled_convolution_op while saving (showing 5 of 14). These functions will not be directly callable after loading.\n"
          ]
        },
        {
          "output_type": "stream",
          "name": "stdout",
          "text": [
            "\b\b\b\b\b\b\b\b\b\b\b\b\b\b\b\b\b\b\b\b\b\b\b\b\b\b\b\b\b\b\b\b\b\b\b\b\b\b\b\b\b\b\b\b\b\b\b\b\b\b\b\b\b\b\b\b\b\b\b\b\b\b\b\b\b\b\b\b\b\b\b\b\b\b\b\b\b\b\b\b\b\b\b\b\r802/802 [==============================] - 2037s 3s/step - loss: 0.5129 - accuracy: 0.7391 - val_loss: 0.6553 - val_accuracy: 0.5725 - lr: 0.0010\n",
            "Epoch 2/30\n",
            "802/802 [==============================] - ETA: 0s - loss: 0.3891 - accuracy: 0.8201\n",
            "Epoch 2: val_loss improved from 0.65525 to 0.58747, saving model to /content/drive/MyDrive/mrlEyes_2018_01/VGG16\n"
          ]
        },
        {
          "output_type": "stream",
          "name": "stderr",
          "text": [
            "WARNING:absl:Found untraced functions such as _jit_compiled_convolution_op, _jit_compiled_convolution_op, _jit_compiled_convolution_op, _jit_compiled_convolution_op, _jit_compiled_convolution_op while saving (showing 5 of 14). These functions will not be directly callable after loading.\n"
          ]
        },
        {
          "output_type": "stream",
          "name": "stdout",
          "text": [
            "\b\b\b\b\b\b\b\b\b\b\b\b\b\b\b\b\b\b\b\b\b\b\b\b\b\b\b\b\b\b\b\b\b\b\b\b\b\b\b\b\b\b\b\b\b\b\b\b\b\b\b\b\b\b\b\b\b\b\b\b\b\b\b\b\b\b\b\b\b\b\b\b\b\b\b\b\b\b\b\b\b\b\b\b\r802/802 [==============================] - 790s 986ms/step - loss: 0.3891 - accuracy: 0.8201 - val_loss: 0.5875 - val_accuracy: 0.6156 - lr: 0.0010\n",
            "Epoch 3/30\n",
            "802/802 [==============================] - ETA: 0s - loss: 0.3733 - accuracy: 0.8306\n",
            "Epoch 3: val_loss improved from 0.58747 to 0.49164, saving model to /content/drive/MyDrive/mrlEyes_2018_01/VGG16\n"
          ]
        },
        {
          "output_type": "stream",
          "name": "stderr",
          "text": [
            "WARNING:absl:Found untraced functions such as _jit_compiled_convolution_op, _jit_compiled_convolution_op, _jit_compiled_convolution_op, _jit_compiled_convolution_op, _jit_compiled_convolution_op while saving (showing 5 of 14). These functions will not be directly callable after loading.\n"
          ]
        },
        {
          "output_type": "stream",
          "name": "stdout",
          "text": [
            "\b\b\b\b\b\b\b\b\b\b\b\b\b\b\b\b\b\b\b\b\b\b\b\b\b\b\b\b\b\b\b\b\b\b\b\b\b\b\b\b\b\b\b\b\b\b\b\b\b\b\b\b\b\b\b\b\b\b\b\b\b\b\b\b\b\b\b\b\b\b\b\b\b\b\b\b\b\b\b\b\b\b\b\b\r802/802 [==============================] - 797s 994ms/step - loss: 0.3733 - accuracy: 0.8306 - val_loss: 0.4916 - val_accuracy: 0.7738 - lr: 0.0010\n",
            "Epoch 4/30\n",
            "802/802 [==============================] - ETA: 0s - loss: 0.3432 - accuracy: 0.8457\n",
            "Epoch 4: val_loss improved from 0.49164 to 0.45929, saving model to /content/drive/MyDrive/mrlEyes_2018_01/VGG16\n"
          ]
        },
        {
          "output_type": "stream",
          "name": "stderr",
          "text": [
            "WARNING:absl:Found untraced functions such as _jit_compiled_convolution_op, _jit_compiled_convolution_op, _jit_compiled_convolution_op, _jit_compiled_convolution_op, _jit_compiled_convolution_op while saving (showing 5 of 14). These functions will not be directly callable after loading.\n"
          ]
        },
        {
          "output_type": "stream",
          "name": "stdout",
          "text": [
            "\b\b\b\b\b\b\b\b\b\b\b\b\b\b\b\b\b\b\b\b\b\b\b\b\b\b\b\b\b\b\b\b\b\b\b\b\b\b\b\b\b\b\b\b\b\b\b\b\b\b\b\b\b\b\b\b\b\b\b\b\b\b\b\b\b\b\b\b\b\b\b\b\b\b\b\b\b\b\b\b\b\b\b\b\r802/802 [==============================] - 799s 997ms/step - loss: 0.3432 - accuracy: 0.8457 - val_loss: 0.4593 - val_accuracy: 0.7956 - lr: 0.0010\n",
            "Epoch 5/30\n",
            "802/802 [==============================] - ETA: 0s - loss: 0.3354 - accuracy: 0.8480\n",
            "Epoch 5: val_loss did not improve from 0.45929\n",
            "802/802 [==============================] - 733s 914ms/step - loss: 0.3354 - accuracy: 0.8480 - val_loss: 0.4727 - val_accuracy: 0.7437 - lr: 0.0010\n",
            "Epoch 6/30\n",
            "802/802 [==============================] - ETA: 0s - loss: 0.3179 - accuracy: 0.8577\n",
            "Epoch 6: val_loss improved from 0.45929 to 0.43526, saving model to /content/drive/MyDrive/mrlEyes_2018_01/VGG16\n"
          ]
        },
        {
          "output_type": "stream",
          "name": "stderr",
          "text": [
            "WARNING:absl:Found untraced functions such as _jit_compiled_convolution_op, _jit_compiled_convolution_op, _jit_compiled_convolution_op, _jit_compiled_convolution_op, _jit_compiled_convolution_op while saving (showing 5 of 14). These functions will not be directly callable after loading.\n"
          ]
        },
        {
          "output_type": "stream",
          "name": "stdout",
          "text": [
            "\b\b\b\b\b\b\b\b\b\b\b\b\b\b\b\b\b\b\b\b\b\b\b\b\b\b\b\b\b\b\b\b\b\b\b\b\b\b\b\b\b\b\b\b\b\b\b\b\b\b\b\b\b\b\b\b\b\b\b\b\b\b\b\b\b\b\b\b\b\b\b\b\b\b\b\b\b\b\b\b\b\b\b\b\r802/802 [==============================] - 735s 916ms/step - loss: 0.3179 - accuracy: 0.8577 - val_loss: 0.4353 - val_accuracy: 0.8125 - lr: 0.0010\n",
            "Epoch 7/30\n",
            "802/802 [==============================] - ETA: 0s - loss: 0.3152 - accuracy: 0.8639\n",
            "Epoch 7: val_loss did not improve from 0.43526\n",
            "802/802 [==============================] - 791s 987ms/step - loss: 0.3152 - accuracy: 0.8639 - val_loss: 0.4596 - val_accuracy: 0.7713 - lr: 0.0010\n",
            "Epoch 8/30\n",
            "802/802 [==============================] - ETA: 0s - loss: 0.3140 - accuracy: 0.8618\n",
            "Epoch 8: val_loss did not improve from 0.43526\n",
            "802/802 [==============================] - 738s 920ms/step - loss: 0.3140 - accuracy: 0.8618 - val_loss: 0.4628 - val_accuracy: 0.7688 - lr: 0.0010\n",
            "Epoch 9/30\n",
            "802/802 [==============================] - ETA: 0s - loss: 0.3068 - accuracy: 0.8663\n",
            "Epoch 9: val_loss did not improve from 0.43526\n",
            "\n",
            "Epoch 9: ReduceLROnPlateau reducing learning rate to 0.00010000000474974513.\n",
            "802/802 [==============================] - 730s 910ms/step - loss: 0.3068 - accuracy: 0.8663 - val_loss: 0.4461 - val_accuracy: 0.7987 - lr: 0.0010\n",
            "Epoch 10/30\n",
            "802/802 [==============================] - ETA: 0s - loss: 0.2760 - accuracy: 0.8834\n",
            "Epoch 10: val_loss improved from 0.43526 to 0.41896, saving model to /content/drive/MyDrive/mrlEyes_2018_01/VGG16\n"
          ]
        },
        {
          "output_type": "stream",
          "name": "stderr",
          "text": [
            "WARNING:absl:Found untraced functions such as _jit_compiled_convolution_op, _jit_compiled_convolution_op, _jit_compiled_convolution_op, _jit_compiled_convolution_op, _jit_compiled_convolution_op while saving (showing 5 of 14). These functions will not be directly callable after loading.\n"
          ]
        },
        {
          "output_type": "stream",
          "name": "stdout",
          "text": [
            "\b\b\b\b\b\b\b\b\b\b\b\b\b\b\b\b\b\b\b\b\b\b\b\b\b\b\b\b\b\b\b\b\b\b\b\b\b\b\b\b\b\b\b\b\b\b\b\b\b\b\b\b\b\b\b\b\b\b\b\b\b\b\b\b\b\b\b\b\b\b\b\b\b\b\b\b\b\b\b\b\b\b\b\b\r802/802 [==============================] - 792s 989ms/step - loss: 0.2760 - accuracy: 0.8834 - val_loss: 0.4190 - val_accuracy: 0.8075 - lr: 1.0000e-04\n",
            "Epoch 11/30\n",
            "802/802 [==============================] - ETA: 0s - loss: 0.2663 - accuracy: 0.8914\n",
            "Epoch 11: val_loss improved from 0.41896 to 0.41242, saving model to /content/drive/MyDrive/mrlEyes_2018_01/VGG16\n"
          ]
        },
        {
          "output_type": "stream",
          "name": "stderr",
          "text": [
            "WARNING:absl:Found untraced functions such as _jit_compiled_convolution_op, _jit_compiled_convolution_op, _jit_compiled_convolution_op, _jit_compiled_convolution_op, _jit_compiled_convolution_op while saving (showing 5 of 14). These functions will not be directly callable after loading.\n"
          ]
        },
        {
          "output_type": "stream",
          "name": "stdout",
          "text": [
            "\b\b\b\b\b\b\b\b\b\b\b\b\b\b\b\b\b\b\b\b\b\b\b\b\b\b\b\b\b\b\b\b\b\b\b\b\b\b\b\b\b\b\b\b\b\b\b\b\b\b\b\b\b\b\b\b\b\b\b\b\b\b\b\b\b\b\b\b\b\b\b\b\b\b\b\b\b\b\b\b\b\b\b\b\r802/802 [==============================] - 737s 919ms/step - loss: 0.2663 - accuracy: 0.8914 - val_loss: 0.4124 - val_accuracy: 0.8000 - lr: 1.0000e-04\n",
            "Epoch 12/30\n",
            "802/802 [==============================] - ETA: 0s - loss: 0.2608 - accuracy: 0.8930\n",
            "Epoch 12: val_loss did not improve from 0.41242\n",
            "802/802 [==============================] - 790s 985ms/step - loss: 0.2608 - accuracy: 0.8930 - val_loss: 0.4510 - val_accuracy: 0.7894 - lr: 1.0000e-04\n",
            "Epoch 13/30\n",
            "802/802 [==============================] - ETA: 0s - loss: 0.2693 - accuracy: 0.8903\n",
            "Epoch 13: val_loss did not improve from 0.41242\n",
            "802/802 [==============================] - 785s 979ms/step - loss: 0.2693 - accuracy: 0.8903 - val_loss: 0.4298 - val_accuracy: 0.8087 - lr: 1.0000e-04\n",
            "Epoch 14/30\n",
            "802/802 [==============================] - ETA: 0s - loss: 0.2584 - accuracy: 0.8928\n",
            "Epoch 14: val_loss did not improve from 0.41242\n",
            "\n",
            "Epoch 14: ReduceLROnPlateau reducing learning rate to 1.0000000474974514e-05.\n",
            "802/802 [==============================] - 786s 980ms/step - loss: 0.2584 - accuracy: 0.8928 - val_loss: 0.4353 - val_accuracy: 0.7894 - lr: 1.0000e-04\n",
            "Epoch 15/30\n",
            "802/802 [==============================] - ETA: 0s - loss: 0.2441 - accuracy: 0.9070\n",
            "Epoch 15: val_loss did not improve from 0.41242\n",
            "802/802 [==============================] - 790s 985ms/step - loss: 0.2441 - accuracy: 0.9070 - val_loss: 0.4268 - val_accuracy: 0.8000 - lr: 1.0000e-05\n",
            "Epoch 16/30\n",
            "802/802 [==============================] - ETA: 0s - loss: 0.2559 - accuracy: 0.8933\n",
            "Epoch 16: val_loss improved from 0.41242 to 0.41010, saving model to /content/drive/MyDrive/mrlEyes_2018_01/VGG16\n"
          ]
        },
        {
          "output_type": "stream",
          "name": "stderr",
          "text": [
            "WARNING:absl:Found untraced functions such as _jit_compiled_convolution_op, _jit_compiled_convolution_op, _jit_compiled_convolution_op, _jit_compiled_convolution_op, _jit_compiled_convolution_op while saving (showing 5 of 14). These functions will not be directly callable after loading.\n"
          ]
        },
        {
          "output_type": "stream",
          "name": "stdout",
          "text": [
            "\b\b\b\b\b\b\b\b\b\b\b\b\b\b\b\b\b\b\b\b\b\b\b\b\b\b\b\b\b\b\b\b\b\b\b\b\b\b\b\b\b\b\b\b\b\b\b\b\b\b\b\b\b\b\b\b\b\b\b\b\b\b\b\b\b\b\b\b\b\b\b\b\b\b\b\b\b\b\b\b\b\b\b\b\r802/802 [==============================] - 793s 989ms/step - loss: 0.2559 - accuracy: 0.8933 - val_loss: 0.4101 - val_accuracy: 0.8000 - lr: 1.0000e-05\n",
            "Epoch 17/30\n",
            "601/802 [=====================>........] - ETA: 2:27 - loss: 0.2479 - accuracy: 0.8929"
          ]
        },
        {
          "output_type": "error",
          "ename": "UnknownError",
          "evalue": "ignored",
          "traceback": [
            "\u001b[0;31m---------------------------------------------------------------------------\u001b[0m",
            "\u001b[0;31mUnknownError\u001b[0m                              Traceback (most recent call last)",
            "\u001b[0;32m<ipython-input-10-b80ebd5e01c8>\u001b[0m in \u001b[0;36m<cell line: 3>\u001b[0;34m()\u001b[0m\n\u001b[1;32m      1\u001b[0m \u001b[0;31m#isiko baar baar chalana hoga model save krne k baad\u001b[0m\u001b[0;34m\u001b[0m\u001b[0;34m\u001b[0m\u001b[0m\n\u001b[1;32m      2\u001b[0m \u001b[0mmodel\u001b[0m\u001b[0;34m.\u001b[0m\u001b[0mcompile\u001b[0m\u001b[0;34m(\u001b[0m\u001b[0moptimizer\u001b[0m\u001b[0;34m=\u001b[0m\u001b[0;34m'Adam'\u001b[0m\u001b[0;34m,\u001b[0m \u001b[0mloss\u001b[0m\u001b[0;34m=\u001b[0m\u001b[0;34m'categorical_crossentropy'\u001b[0m\u001b[0;34m,\u001b[0m \u001b[0mmetrics\u001b[0m\u001b[0;34m=\u001b[0m\u001b[0;34m[\u001b[0m\u001b[0;34m'accuracy'\u001b[0m\u001b[0;34m]\u001b[0m\u001b[0;34m)\u001b[0m\u001b[0;34m\u001b[0m\u001b[0;34m\u001b[0m\u001b[0m\n\u001b[0;32m----> 3\u001b[0;31m History = model.fit_generator(train_data, steps_per_epoch=train_data.samples//batchsize, validation_data=validation_data, validation_steps=validation_data.samples//batchsize,\n\u001b[0m\u001b[1;32m      4\u001b[0m                     callbacks = callbacks, epochs=30)\n",
            "\u001b[0;32m/usr/local/lib/python3.10/dist-packages/keras/engine/training.py\u001b[0m in \u001b[0;36mfit_generator\u001b[0;34m(self, generator, steps_per_epoch, epochs, verbose, callbacks, validation_data, validation_steps, validation_freq, class_weight, max_queue_size, workers, use_multiprocessing, shuffle, initial_epoch)\u001b[0m\n\u001b[1;32m   2634\u001b[0m             \u001b[0mstacklevel\u001b[0m\u001b[0;34m=\u001b[0m\u001b[0;36m2\u001b[0m\u001b[0;34m,\u001b[0m\u001b[0;34m\u001b[0m\u001b[0;34m\u001b[0m\u001b[0m\n\u001b[1;32m   2635\u001b[0m         )\n\u001b[0;32m-> 2636\u001b[0;31m         return self.fit(\n\u001b[0m\u001b[1;32m   2637\u001b[0m             \u001b[0mgenerator\u001b[0m\u001b[0;34m,\u001b[0m\u001b[0;34m\u001b[0m\u001b[0;34m\u001b[0m\u001b[0m\n\u001b[1;32m   2638\u001b[0m             \u001b[0msteps_per_epoch\u001b[0m\u001b[0;34m=\u001b[0m\u001b[0msteps_per_epoch\u001b[0m\u001b[0;34m,\u001b[0m\u001b[0;34m\u001b[0m\u001b[0;34m\u001b[0m\u001b[0m\n",
            "\u001b[0;32m/usr/local/lib/python3.10/dist-packages/keras/utils/traceback_utils.py\u001b[0m in \u001b[0;36merror_handler\u001b[0;34m(*args, **kwargs)\u001b[0m\n\u001b[1;32m     68\u001b[0m             \u001b[0;31m# To get the full stack trace, call:\u001b[0m\u001b[0;34m\u001b[0m\u001b[0;34m\u001b[0m\u001b[0m\n\u001b[1;32m     69\u001b[0m             \u001b[0;31m# `tf.debugging.disable_traceback_filtering()`\u001b[0m\u001b[0;34m\u001b[0m\u001b[0;34m\u001b[0m\u001b[0m\n\u001b[0;32m---> 70\u001b[0;31m             \u001b[0;32mraise\u001b[0m \u001b[0me\u001b[0m\u001b[0;34m.\u001b[0m\u001b[0mwith_traceback\u001b[0m\u001b[0;34m(\u001b[0m\u001b[0mfiltered_tb\u001b[0m\u001b[0;34m)\u001b[0m \u001b[0;32mfrom\u001b[0m \u001b[0;32mNone\u001b[0m\u001b[0;34m\u001b[0m\u001b[0;34m\u001b[0m\u001b[0m\n\u001b[0m\u001b[1;32m     71\u001b[0m         \u001b[0;32mfinally\u001b[0m\u001b[0;34m:\u001b[0m\u001b[0;34m\u001b[0m\u001b[0;34m\u001b[0m\u001b[0m\n\u001b[1;32m     72\u001b[0m             \u001b[0;32mdel\u001b[0m \u001b[0mfiltered_tb\u001b[0m\u001b[0;34m\u001b[0m\u001b[0;34m\u001b[0m\u001b[0m\n",
            "\u001b[0;32m/usr/local/lib/python3.10/dist-packages/tensorflow/python/eager/execute.py\u001b[0m in \u001b[0;36mquick_execute\u001b[0;34m(op_name, num_outputs, inputs, attrs, ctx, name)\u001b[0m\n\u001b[1;32m     50\u001b[0m   \u001b[0;32mtry\u001b[0m\u001b[0;34m:\u001b[0m\u001b[0;34m\u001b[0m\u001b[0;34m\u001b[0m\u001b[0m\n\u001b[1;32m     51\u001b[0m     \u001b[0mctx\u001b[0m\u001b[0;34m.\u001b[0m\u001b[0mensure_initialized\u001b[0m\u001b[0;34m(\u001b[0m\u001b[0;34m)\u001b[0m\u001b[0;34m\u001b[0m\u001b[0;34m\u001b[0m\u001b[0m\n\u001b[0;32m---> 52\u001b[0;31m     tensors = pywrap_tfe.TFE_Py_Execute(ctx._handle, device_name, op_name,\n\u001b[0m\u001b[1;32m     53\u001b[0m                                         inputs, attrs, num_outputs)\n\u001b[1;32m     54\u001b[0m   \u001b[0;32mexcept\u001b[0m \u001b[0mcore\u001b[0m\u001b[0;34m.\u001b[0m\u001b[0m_NotOkStatusException\u001b[0m \u001b[0;32mas\u001b[0m \u001b[0me\u001b[0m\u001b[0;34m:\u001b[0m\u001b[0;34m\u001b[0m\u001b[0;34m\u001b[0m\u001b[0m\n",
            "\u001b[0;31mUnknownError\u001b[0m: Graph execution error:\n\nFileNotFoundError: [Errno 2] No such file or directory: '/content/drive/MyDrive/mrlEyes_2018_01/Train/Closed Eyes/s0014_00909_0_0_0_0_0_01.png'\nTraceback (most recent call last):\n\n  File \"/usr/local/lib/python3.10/dist-packages/tensorflow/python/ops/script_ops.py\", line 267, in __call__\n    ret = func(*args)\n\n  File \"/usr/local/lib/python3.10/dist-packages/tensorflow/python/autograph/impl/api.py\", line 642, in wrapper\n    return func(*args, **kwargs)\n\n  File \"/usr/local/lib/python3.10/dist-packages/tensorflow/python/data/ops/from_generator_op.py\", line 198, in generator_py_func\n    values = next(generator_state.get_iterator(iterator_id))\n\n  File \"/usr/local/lib/python3.10/dist-packages/keras/engine/data_adapter.py\", line 902, in wrapped_generator\n    for data in generator_fn():\n\n  File \"/usr/local/lib/python3.10/dist-packages/keras/engine/data_adapter.py\", line 1049, in generator_fn\n    yield x[i]\n\n  File \"/usr/local/lib/python3.10/dist-packages/keras/preprocessing/image.py\", line 116, in __getitem__\n    return self._get_batches_of_transformed_samples(index_array)\n\n  File \"/usr/local/lib/python3.10/dist-packages/keras/preprocessing/image.py\", line 370, in _get_batches_of_transformed_samples\n    img = image_utils.load_img(\n\n  File \"/usr/local/lib/python3.10/dist-packages/keras/utils/image_utils.py\", line 422, in load_img\n    with open(path, \"rb\") as f:\n\nFileNotFoundError: [Errno 2] No such file or directory: '/content/drive/MyDrive/mrlEyes_2018_01/Train/Closed Eyes/s0014_00909_0_0_0_0_0_01.png'\n\n\n\t [[{{node PyFunc}}]]\n\t [[IteratorGetNext]] [Op:__inference_train_function_1616]"
          ]
        }
      ],
      "source": [
        "#isiko baar baar chalana hoga model save krne k baad\n",
        "model.compile(optimizer='Adam', loss='categorical_crossentropy', metrics=['accuracy'])\n",
        "History = model.fit_generator(train_data, steps_per_epoch=train_data.samples//batchsize, validation_data=validation_data, validation_steps=validation_data.samples//batchsize,\n",
        "                    callbacks = callbacks, epochs=30)"
      ]
    },
    {
      "cell_type": "code",
      "source": [
        "from keras.models import load_model"
      ],
      "metadata": {
        "id": "DXQ85KcA2uYZ"
      },
      "execution_count": null,
      "outputs": []
    },
    {
      "cell_type": "code",
      "source": [
        "model.save('/content/drive/MyDrive/mrlEyes_2018_01/VGG16/myModel/vgg16_model.h5')"
      ],
      "metadata": {
        "id": "LVpug82M20zE"
      },
      "execution_count": null,
      "outputs": []
    },
    {
      "cell_type": "code",
      "source": [
        "new_model = load_model('/content/drive/MyDrive/mrlEyes_2018_01/VGG16/myModel/vgg16_model.h5')"
      ],
      "metadata": {
        "id": "afZ7PoBY3D04"
      },
      "execution_count": null,
      "outputs": []
    },
    {
      "cell_type": "code",
      "source": [
        "loss_train, acc_train = new_model.evaluate_generator(train_data, steps = 16)\n",
        "print(acc_train)\n",
        "print(loss_train)"
      ],
      "metadata": {
        "colab": {
          "base_uri": "https://localhost:8080/"
        },
        "id": "LP2LIixe7n4Z",
        "outputId": "e729c7e7-9ce0-4656-fb58-bfaf6ffd6338"
      },
      "execution_count": null,
      "outputs": [
        {
          "output_type": "stream",
          "name": "stderr",
          "text": [
            "<ipython-input-17-bafa75701154>:1: UserWarning: `Model.evaluate_generator` is deprecated and will be removed in a future version. Please use `Model.evaluate`, which supports generators.\n",
            "  acc_train, loss_train = new_model.evaluate_generator(train_data, steps = 16)\n"
          ]
        },
        {
          "output_type": "stream",
          "name": "stdout",
          "text": [
            "0.24124585092067719\n",
            "0.921875\n"
          ]
        }
      ]
    },
    {
      "cell_type": "code",
      "source": [
        "loss_valid, acc_valid = new_model.evaluate_generator(validation_data, steps = 16)\n",
        "print(acc_valid)\n",
        "print(loss_valid)"
      ],
      "metadata": {
        "colab": {
          "base_uri": "https://localhost:8080/"
        },
        "id": "77p1bx-a7qr8",
        "outputId": "2e52502a-a625-4b67-a5b4-3f943a241eae"
      },
      "execution_count": null,
      "outputs": [
        {
          "output_type": "stream",
          "name": "stderr",
          "text": [
            "<ipython-input-18-78fa9828eb6f>:1: UserWarning: `Model.evaluate_generator` is deprecated and will be removed in a future version. Please use `Model.evaluate`, which supports generators.\n",
            "  acc_valid, loss_valid = new_model.evaluate_generator(validation_data, steps = 16)\n"
          ]
        },
        {
          "output_type": "stream",
          "name": "stdout",
          "text": [
            "0.34956425428390503\n",
            "0.8359375\n"
          ]
        }
      ]
    },
    {
      "cell_type": "code",
      "source": [
        "loss_test, acc_test = new_model.evaluate_generator(test_data, steps = 16)\n",
        "print(acc_test)\n",
        "print(loss_test)"
      ],
      "metadata": {
        "colab": {
          "base_uri": "https://localhost:8080/"
        },
        "id": "nz8GTgo87-6W",
        "outputId": "bda059d3-83a0-4b9f-fb78-8e96cb1e3692"
      },
      "execution_count": null,
      "outputs": [
        {
          "output_type": "stream",
          "name": "stderr",
          "text": [
            "<ipython-input-19-2f97bf039bca>:1: UserWarning: `Model.evaluate_generator` is deprecated and will be removed in a future version. Please use `Model.evaluate`, which supports generators.\n",
            "  acc_test, loss_test = new_model.evaluate_generator(test_data, steps = 16)\n"
          ]
        },
        {
          "output_type": "stream",
          "name": "stdout",
          "text": [
            "0.2124611884355545\n",
            "0.921875\n"
          ]
        }
      ]
    },
    {
      "cell_type": "code",
      "source": [
        "_loss = [0.5129, 0.3891, 0.3733, 0.3439, 0.3354, 0.3179, 0.3152, 0.3140, 0.3068, 0.2760, 0.2663, 0.2608, 0.2693, 0.2584, 0.2441, 0.2559]\n",
        "_accuracy = [0.7391, 0.8201, 0.8306, 0.8457, 0.8480, 0.8577, 0.8639, 0.8618, 0.8663, 0.8834, 0.8914, 0.8930, 0.8903, 0.8928, 0.9070, 0.8933]\n",
        "_val_loss = [0.6553, 0.5875, 0.4916, 0.4593, 0.4727, 0.4353, 0.4596, 0.4628, 0.4461, 0.4190, 0.4124, 0.4510, 0.4298, 0.4353, 0.4268, 0.4101]\n",
        "_val_accuracy = [0.5725, 0.6156, 0.7738, 0.7956, 0.7437, 0.8125, 0.7713, 0.7688, 0.7987, 0.8075, 0.8000, 0.7894, 0.8087, 0.7894, 0.8000, 0.8000]"
      ],
      "metadata": {
        "id": "uU8N-7B9ChS7"
      },
      "execution_count": null,
      "outputs": []
    },
    {
      "cell_type": "code",
      "source": [
        "_history = {'loss' : _loss, 'accuracy' : _accuracy, 'val_loss' : _val_loss, 'val_accuracy' : _val_accuracy}"
      ],
      "metadata": {
        "id": "GxJVUazKHa2K"
      },
      "execution_count": null,
      "outputs": []
    },
    {
      "cell_type": "code",
      "source": [
        "print(_history)"
      ],
      "metadata": {
        "colab": {
          "base_uri": "https://localhost:8080/"
        },
        "id": "_koIrz9gH0gS",
        "outputId": "2eda3a08-068c-4d69-e582-d1b713ee6c41"
      },
      "execution_count": null,
      "outputs": [
        {
          "output_type": "stream",
          "name": "stdout",
          "text": [
            "{'loss': [0.5129, 0.3891, 0.3733, 0.3439, 0.3354, 0.3179, 0.3152, 0.314, 0.3068, 0.276, 0.2663, 0.2608, 0.2693, 0.2584, 0.2441, 0.2559], 'accuracy': [0.7391, 0.8201, 0.8306, 0.8457, 0.848, 0.8577, 0.8639, 0.8618, 0.8663, 0.8834, 0.8914, 0.893, 0.8903, 0.8928, 0.907, 0.8933], 'val_loss': [0.6553, 0.5875, 0.4916, 0.4593, 0.4727, 0.4353, 0.4596, 0.4628, 0.4461, 0.419, 0.4124, 0.451, 0.4298, 0.4353, 0.4268, 0.4101], 'val_accuracy': [0.5725, 0.6156, 0.7738, 0.7956, 0.7437, 0.8125, 0.7713, 0.7688, 0.7987, 0.8075, 0.8, 0.7894, 0.8087, 0.7894, 0.8, 0.8]}\n"
          ]
        }
      ]
    },
    {
      "cell_type": "code",
      "source": [
        "import matplotlib.pyplot as plt\n",
        "epochs = 16\n",
        "\n",
        "acc = _history['accuracy']\n",
        "val_acc = _history['val_accuracy']\n",
        "\n",
        "loss = _history['loss']\n",
        "val_loss = _history['val_loss']\n",
        "\n",
        "epochs_range = range(epochs)\n",
        "#plot traing and validation accuracy\n",
        "plt.figure(figsize=(10, 4))\n",
        "plt.subplot(1, 2, 1)\n",
        "plt.plot(epochs_range, acc, label='Training Accuracy')\n",
        "plt.plot(epochs_range, val_acc, label='Validation Accuracy')\n",
        "plt.xlabel(\"Epoch\")\n",
        "plt.ylabel(\"Accuracy\")\n",
        "plt.legend(loc='lower right')\n",
        "plt.title('Training and Validation Accuracy')\n",
        "plt.grid()\n",
        "\n",
        "#plot traing and validation loss\n",
        "plt.subplot(1, 2, 2)\n",
        "plt.plot(epochs_range, loss, label='Training Loss')\n",
        "plt.plot(epochs_range, val_loss, label='Validation Loss')\n",
        "plt.xlabel(\"Epoch\")\n",
        "plt.ylabel(\"Accuracy\")\n",
        "plt.legend(loc='upper right')\n",
        "plt.title('Training and Validation Loss')\n",
        "plt.grid()\n",
        "plt.show()"
      ],
      "metadata": {
        "colab": {
          "base_uri": "https://localhost:8080/",
          "height": 410
        },
        "id": "Qmxv9rI1IBJu",
        "outputId": "9b3aa628-b7d6-4ada-cfec-6d1f1a115a23"
      },
      "execution_count": null,
      "outputs": [
        {
          "output_type": "display_data",
          "data": {
            "text/plain": [
              "<Figure size 1000x400 with 2 Axes>"
            ],
            "image/png": "[encoded data removed]"
          },
          "metadata": {}
        }
      ]
    }
  ],
  "metadata": {
    "colab": {
      "provenance": []
    },
    "kernelspec": {
      "display_name": "Python 3",
      "name": "python3"
    },
    "language_info": {
      "name": "python"
    },
    "accelerator": "TPU"
  },
  "nbformat": 4,
  "nbformat_minor": 0
}